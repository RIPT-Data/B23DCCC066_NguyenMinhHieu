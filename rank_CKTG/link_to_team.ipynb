{
 "cells": [
  {
   "cell_type": "code",
   "execution_count": 28,
   "metadata": {},
   "outputs": [],
   "source": [
    "from selenium import webdriver\n",
    "from selenium.webdriver.common.by import By\n",
    "from selenium.webdriver.support import expected_conditions as EC\n",
    "from selenium.webdriver.common.keys import Keys\n",
    "import requests\n",
    "from bs4 import BeautifulSoup\n",
    "from time import sleep\n",
    "from selenium.webdriver.support.ui import WebDriverWait\n"
   ]
  },
  {
   "cell_type": "code",
   "execution_count": 29,
   "metadata": {},
   "outputs": [],
   "source": [
    "driver = webdriver.Chrome()\n",
    "driver.get('https://lolesports.com/vi-VN') \n",
    "sleep(6)"
   ]
  },
  {
   "cell_type": "code",
   "execution_count": 33,
   "metadata": {},
   "outputs": [],
   "source": [
    "acpt = driver.find_element(By.XPATH, \"/html/body/div[1]/div[2]/div[2]/button[2]\")\n",
    "acpt.click()\n",
    "sleep(2)"
   ]
  },
  {
   "cell_type": "code",
   "execution_count": 34,
   "metadata": {},
   "outputs": [],
   "source": [
    "\n",
    "power_ranking = driver.find_element(By.LINK_TEXT, \"POWER RANKINGS\")\n",
    "power_ranking.click()\n",
    "sleep(3)"
   ]
  },
  {
   "cell_type": "code",
   "execution_count": 37,
   "metadata": {},
   "outputs": [
    {
     "name": "stdout",
     "output_type": "stream",
     "text": [
      "https://lolesports.com/teams/geng\n",
      "https://lolesports.com/teams/bilibili-gaming\n",
      "https://lolesports.com/teams/hanwha-life-esports\n",
      "https://lolesports.com/teams/top-esports\n",
      "https://lolesports.com/teams/g2-esports\n",
      "https://lolesports.com/teams/t1\n",
      "https://lolesports.com/teams/dwg-kia\n",
      "https://lolesports.com/teams/jd-gaming\n",
      "https://lolesports.com/teams/kt-rolster\n",
      "https://lolesports.com/teams/lng-esports\n",
      "https://lolesports.com/teams/weibo-gaming\n",
      "https://lolesports.com/teams/victory-five\n",
      "https://lolesports.com/teams/fnatic\n",
      "https://lolesports.com/teams/team-liquid\n",
      "https://lolesports.com/teams/anyones-legend\n",
      "https://lolesports.com/teams/flyquest\n",
      "https://lolesports.com/teams/team-bds\n",
      "https://lolesports.com/teams/funplus-phoenix\n",
      "https://lolesports.com/teams/psg-talon\n",
      "https://lolesports.com/teams/team-we\n",
      "https://lolesports.com/teams/kwangdong-freecs\n",
      "https://lolesports.com/teams/cloud9\n",
      "https://lolesports.com/teams/lgd-gaming\n",
      "https://lolesports.com/teams/oh-my-god\n",
      "https://lolesports.com/teams/fearx\n",
      "https://lolesports.com/teams/thunder-talk-gaming\n",
      "https://lolesports.com/teams/mad-lions\n",
      "https://lolesports.com/teams/invictus-gaming\n",
      "https://lolesports.com/teams/edward-gaming\n",
      "https://lolesports.com/teams/nongshim-redforce\n",
      "https://lolesports.com/teams/karmine-corp\n",
      "https://lolesports.com/teams/rare-atom\n",
      "https://lolesports.com/teams/sk-gaming\n",
      "https://lolesports.com/teams/100-thieves\n",
      "https://lolesports.com/teams/team-vitality\n",
      "https://lolesports.com/teams/royal-never-give-up\n",
      "https://lolesports.com/teams/gam-esports\n",
      "https://lolesports.com/teams/nrg-esports\n",
      "https://lolesports.com/teams/team-heretics-lec\n",
      "https://lolesports.com/teams/giantx-lec\n",
      "https://lolesports.com/teams/drx\n",
      "https://lolesports.com/teams/shopify-rebellion\n",
      "https://lolesports.com/teams/ultra-prime\n",
      "https://lolesports.com/teams/dignitas\n",
      "https://lolesports.com/teams/rogue\n",
      "https://lolesports.com/teams/ctbc-flying-oyster\n",
      "https://lolesports.com/teams/fredit-brion\n",
      "https://lolesports.com/teams/saigon-buffalo-esports\n",
      "https://lolesports.com/teams/frank-esports\n",
      "https://lolesports.com/teams/rainbow7\n",
      "https://lolesports.com/teams/immortals-progressive\n",
      "https://lolesports.com/teams/pain-gaming\n",
      "https://lolesports.com/teams/fukuoka-softbank-hawks-gaming\n",
      "https://lolesports.com/teams/deep-cross-gaming\n",
      "https://lolesports.com/teams/loud\n",
      "https://lolesports.com/teams/estral-esports\n",
      "https://lolesports.com/teams/team-secret\n",
      "https://lolesports.com/teams/team-whales\n",
      "https://lolesports.com/teams/red-kalunga\n",
      "https://lolesports.com/teams/ground-zero\n",
      "https://lolesports.com/teams/sengoku-gaming\n",
      "https://lolesports.com/teams/vivo-keyd\n",
      "https://lolesports.com/teams/taipei-j-team\n",
      "https://lolesports.com/teams/detonation-focusme\n",
      "https://lolesports.com/teams/isurus\n",
      "https://lolesports.com/teams/team-bliss\n",
      "https://lolesports.com/teams/cerberus-esports\n",
      "https://lolesports.com/teams/furia\n",
      "https://lolesports.com/teams/team-flash\n",
      "https://lolesports.com/teams/infinity\n",
      "https://lolesports.com/teams/fluxo\n",
      "https://lolesports.com/teams/hell-pigs\n",
      "https://lolesports.com/teams/mgn-box-esports\n",
      "https://lolesports.com/teams/intz\n",
      "https://lolesports.com/teams/sem9-wpe\n",
      "https://lolesports.com/teams/los\n",
      "https://lolesports.com/teams/kabum-esports\n",
      "https://lolesports.com/teams/leviatan-esports\n",
      "https://lolesports.com/teams/six-karma\n",
      "https://lolesports.com/teams/liberty\n"
     ]
    }
   ],
   "source": [
    "data = []\n",
    "\n",
    "def collect_data():\n",
    "    for i in range(1, 80+1):\n",
    "        # Click vào team thứ i\n",
    "        teams = driver.find_element(By.XPATH, f\"/html/body/main/div[2]/div/div[2]/div[1]/div/div[2]/table/tbody/tr[{i}]\")\n",
    "        driver.execute_script(\"arguments[0].click();\", teams)\n",
    "        \n",
    "        # Chờ trang mới tải và element xuất hiện\n",
    "        WebDriverWait(driver, 10).until(\n",
    "            EC.presence_of_element_located((By.XPATH, \"/html/body/div[4]/div/div[1]/h2\"))  # Điều chỉnh ID nếu cần\n",
    "        )\n",
    "\n",
    "        # Lấy tất cả các href trên trang mới\n",
    "        hrefs = driver.find_elements(By.XPATH, \"/html/body/div[4]/div/div[1]/h2\")\n",
    "        for u in hrefs:\n",
    "            href = u.find_elements(By.TAG_NAME, \"a\")\n",
    "            for y in href:\n",
    "                link = y.get_attribute(\"href\")\n",
    "                data.append(link)\n",
    "\n",
    "collect_data()\n",
    "\n",
    "for dt in data:\n",
    "    print(dt)\n"
   ]
  }
 ],
 "metadata": {
  "kernelspec": {
   "display_name": "Python 3",
   "language": "python",
   "name": "python3"
  },
  "language_info": {
   "codemirror_mode": {
    "name": "ipython",
    "version": 3
   },
   "file_extension": ".py",
   "mimetype": "text/x-python",
   "name": "python",
   "nbconvert_exporter": "python",
   "pygments_lexer": "ipython3",
   "version": "3.12.0"
  }
 },
 "nbformat": 4,
 "nbformat_minor": 2
}
